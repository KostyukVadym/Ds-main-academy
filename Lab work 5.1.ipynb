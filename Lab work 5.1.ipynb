{
 "cells": [
  {
   "cell_type": "markdown",
   "metadata": {},
   "source": [
    "___\n",
    "\n",
    "<a href='https://mainacademy.ua/'> <img src='https://mainacademy.ua/wp-content/uploads/2019/03/logo-main.png' alt = 'Хмм, щось з інтернетом'/></a>\n",
    "___\n",
    "\n",
    "# Module 5: Data analysis with NumPy and Pandas"
   ]
  },
  {
   "cell_type": "markdown",
   "metadata": {},
   "source": [
    "## Lab work 5.1\n",
    "\n"
   ]
  },
  {
   "cell_type": "markdown",
   "metadata": {},
   "source": [
    "#### Мета: \n",
    "\n",
    "* навчитися працювати із бібліотекою NumPy в Python"
   ]
  },
  {
   "cell_type": "markdown",
   "metadata": {},
   "source": [
    "### Завдання:"
   ]
  },
  {
   "cell_type": "code",
   "execution_count": null,
   "metadata": {},
   "outputs": [],
   "source": [
    "import numpy as np"
   ]
  },
  {
   "cell_type": "markdown",
   "metadata": {},
   "source": [
    "Вивести версію та конфігурацію бібліотеки:"
   ]
  },
  {
   "cell_type": "code",
   "execution_count": 3,
   "metadata": {},
   "outputs": [
    {
     "name": "stdout",
     "output_type": "stream",
     "text": [
      "1.19.2 <module 'numpy.__config__' from 'D:\\\\anaconda\\\\lib\\\\site-packages\\\\numpy\\\\__config__.py'>\n"
     ]
    }
   ],
   "source": [
    "import numpy as np\n",
    "print (np.__version__, np.__config__)\n"
   ]
  },
  {
   "cell_type": "markdown",
   "metadata": {},
   "source": [
    "Створити вектор з 10 елементів, заповнений одиницями:"
   ]
  },
  {
   "cell_type": "code",
   "execution_count": 6,
   "metadata": {},
   "outputs": [
    {
     "data": {
      "text/plain": [
       "array([1., 1., 1., 1., 1., 1., 1., 1., 1., 1.])"
      ]
     },
     "execution_count": 6,
     "metadata": {},
     "output_type": "execute_result"
    }
   ],
   "source": [
    "A = np.ones(10)\n",
    "A"
   ]
  },
  {
   "cell_type": "markdown",
   "metadata": {},
   "source": [
    "Створити вектор із значеннями від 0 до 10:"
   ]
  },
  {
   "cell_type": "code",
   "execution_count": 11,
   "metadata": {},
   "outputs": [
    {
     "name": "stdout",
     "output_type": "stream",
     "text": [
      "[ 0  1  2  3  4  5  6  7  8  9 10]\n"
     ]
    }
   ],
   "source": [
    "A = np.arange(0, 11)\n",
    "print(A)"
   ]
  },
  {
   "cell_type": "markdown",
   "metadata": {},
   "source": [
    "Створити матрицю 5 на 5, заповнену нулями:"
   ]
  },
  {
   "cell_type": "code",
   "execution_count": 25,
   "metadata": {},
   "outputs": [
    {
     "name": "stdout",
     "output_type": "stream",
     "text": [
      "[[0. 0. 0. 0. 0.]\n",
      " [0. 0. 0. 0. 0.]\n",
      " [0. 0. 0. 0. 0.]\n",
      " [0. 0. 0. 0. 0.]\n",
      " [0. 0. 0. 0. 0.]]\n"
     ]
    }
   ],
   "source": [
    "\n",
    "x = np.zeros( (5, 5) )\n",
    "print(x)"
   ]
  },
  {
   "cell_type": "markdown",
   "metadata": {},
   "source": [
    "Заповнити вектор з 20 елементів випадковими цілими числами. Знайти індекси ненульових елементів:"
   ]
  },
  {
   "cell_type": "code",
   "execution_count": 28,
   "metadata": {},
   "outputs": [
    {
     "name": "stdout",
     "output_type": "stream",
     "text": [
      "[0.93984308 0.4955461  0.2038878  0.60729524 0.46171199 0.28660429\n",
      " 0.58528311 0.91983183 0.28877409 0.964743   0.61957759 0.59665463\n",
      " 0.27239816 0.19447403 0.19484915 0.15639434 0.77656117 0.07733549\n",
      " 0.31945047 0.8718082 ] (array([0, 0, 0, 0, 0, 0, 0, 0, 0, 0, 0, 0, 0, 0, 0, 0, 0, 0, 0, 0],\n",
      "      dtype=int64), array([ 0,  1,  2,  3,  4,  5,  6,  7,  8,  9, 10, 11, 12, 13, 14, 15, 16,\n",
      "       17, 18, 19], dtype=int64))\n"
     ]
    }
   ],
   "source": [
    "q = np.random.random(20)\n",
    "w = np.nonzero(q)\n",
    "\n",
    "\n",
    "print(q, w)"
   ]
  },
  {
   "cell_type": "markdown",
   "metadata": {},
   "source": [
    "Для вектора із попередньої задачі знайти середнє значення, медіану, стандартне відхилення:"
   ]
  },
  {
   "cell_type": "code",
   "execution_count": 37,
   "metadata": {},
   "outputs": [
    {
     "name": "stdout",
     "output_type": "stream",
     "text": [
      "Середнє значення: 0.47500337311253527 Медіана: 0.5003747924278358 Стандартне відхилення: 0.31077836406665355\n"
     ]
    }
   ],
   "source": [
    "r = np.random.random(20)\n",
    "m = r.mean()\n",
    "d = np.median(r)\n",
    "x = np.std(r)\n",
    "print(\"Середнє значення:\", m,\n",
    "      \"Медіана:\", d,\n",
    "     \"Стандартне відхилення:\", x)"
   ]
  },
  {
   "cell_type": "markdown",
   "metadata": {},
   "source": [
    "Створити дві матриці випадкових чисел розміром 4х2 та 2х2. Перемножити їх:"
   ]
  },
  {
   "cell_type": "code",
   "execution_count": 40,
   "metadata": {},
   "outputs": [
    {
     "name": "stdout",
     "output_type": "stream",
     "text": [
      "[[0.15741448 0.10292742]\n",
      " [0.18305013 0.17656676]\n",
      " [0.8106     0.47597969]\n",
      " [0.22846502 0.38464423]]\n"
     ]
    }
   ],
   "source": [
    "Z = np.dot(np.random.random((4,2)), np.random.random((2,2)))\n",
    "print(Z)"
   ]
  },
  {
   "cell_type": "markdown",
   "metadata": {},
   "source": [
    "Результуючу матрицю із попередньої задачі перетворити у вектор. Знайти мінімальне та максимальне значення. \n",
    "\n",
    "Максимальне значення замінити на 0:"
   ]
  },
  {
   "cell_type": "code",
   "execution_count": 50,
   "metadata": {},
   "outputs": [
    {
     "name": "stdout",
     "output_type": "stream",
     "text": [
      "[0.59178286 0.42396011 0.86685224 0.91063983 1.47825988 1.23443707\n",
      " 0.60469396 0.48124061]\n",
      "1.4782598827231301\n",
      "0.4239601135434816\n"
     ]
    }
   ],
   "source": [
    "Z = np.dot(np.random.random((4,2)), np.random.random((2,2)))\n",
    "\n",
    "print(Z.ravel())\n",
    "\n",
    "print(np.max(Z))\n",
    "\n",
    "print(np.min(Z))\n"
   ]
  },
  {
   "cell_type": "markdown",
   "metadata": {},
   "source": [
    "Знайдіть кореляцію першого рядка матриці із попереднього завдання із іншими рядками:"
   ]
  },
  {
   "cell_type": "code",
   "execution_count": null,
   "metadata": {},
   "outputs": [],
   "source": []
  },
  {
   "cell_type": "markdown",
   "metadata": {},
   "source": [
    "Дано матрицю. Знайти ранг матриці:"
   ]
  },
  {
   "cell_type": "code",
   "execution_count": 45,
   "metadata": {},
   "outputs": [
    {
     "ename": "AttributeError",
     "evalue": "module 'numpy.linalg' has no attribute 'matrix'",
     "output_type": "error",
     "traceback": [
      "\u001b[1;31m---------------------------------------------------------------------------\u001b[0m",
      "\u001b[1;31mAttributeError\u001b[0m                            Traceback (most recent call last)",
      "\u001b[1;32m<ipython-input-45-b51f7775d8cd>\u001b[0m in \u001b[0;36m<module>\u001b[1;34m\u001b[0m\n\u001b[0;32m      3\u001b[0m               [9, 16, 1]])\n\u001b[0;32m      4\u001b[0m \u001b[1;33m\u001b[0m\u001b[0m\n\u001b[1;32m----> 5\u001b[1;33m \u001b[0mrank\u001b[0m \u001b[1;33m=\u001b[0m \u001b[0mnp\u001b[0m\u001b[1;33m.\u001b[0m\u001b[0mlinalg\u001b[0m\u001b[1;33m.\u001b[0m\u001b[0mmatrix\u001b[0m\u001b[1;33m(\u001b[0m\u001b[0ma\u001b[0m\u001b[1;33m)\u001b[0m\u001b[1;33m\u001b[0m\u001b[1;33m\u001b[0m\u001b[0m\n\u001b[0m",
      "\u001b[1;31mAttributeError\u001b[0m: module 'numpy.linalg' has no attribute 'matrix'"
     ]
    }
   ],
   "source": [
    "a = np.array([[ 1,  4, 5],\n",
    "              [7, 3, 2],\n",
    "              [9, 16, 1]])\n",
    "\n",
    "rank = np.linalg.matrix_rank(a)"
   ]
  },
  {
   "cell_type": "markdown",
   "metadata": {},
   "source": [
    "Знайти визначник матриці:"
   ]
  },
  {
   "cell_type": "code",
   "execution_count": 44,
   "metadata": {},
   "outputs": [
    {
     "data": {
      "text/plain": [
       "440.0000000000002"
      ]
     },
     "execution_count": 44,
     "metadata": {},
     "output_type": "execute_result"
    }
   ],
   "source": [
    "a = np.array([[ 1,  4, 5],\n",
    "              [7, 3, 2],\n",
    "              [9, 16, 1]])\n",
    "np.linalg.det(a)"
   ]
  },
  {
   "cell_type": "markdown",
   "metadata": {},
   "source": [
    "Знайти власні значення та власні вектори матриці: "
   ]
  },
  {
   "cell_type": "code",
   "execution_count": 46,
   "metadata": {},
   "outputs": [
    {
     "data": {
      "text/plain": [
       "(array([-14.30540864,  -4.34740072,  23.65280936]),\n",
       " array([[ 0.15315575,  0.88160309,  0.44645191],\n",
       "        [ 0.63674998, -0.43353159,  0.6376518 ],\n",
       "        [-0.75570681, -0.18661821,  0.62775861]]))"
      ]
     },
     "execution_count": 46,
     "metadata": {},
     "output_type": "execute_result"
    }
   ],
   "source": [
    "a = np.array([[ 1,  4, 5],\n",
    "              [7, 3, 2],\n",
    "              [9, 16, 1]])\n",
    "\n",
    "np.linalg.eigh(a)"
   ]
  },
  {
   "cell_type": "markdown",
   "metadata": {},
   "source": [
    "Знайдіть число, що найчастіше зустрічається в масиві:"
   ]
  },
  {
   "cell_type": "code",
   "execution_count": 47,
   "metadata": {},
   "outputs": [
    {
     "name": "stdout",
     "output_type": "stream",
     "text": [
      "3\n"
     ]
    }
   ],
   "source": [
    "a = np.random.randint(0,10,50)\n",
    "\n",
    "print(np.bincount(a).argmax())"
   ]
  },
  {
   "cell_type": "markdown",
   "metadata": {},
   "source": [
    "Виведіть лише парні числа, що діляться на 5:"
   ]
  },
  {
   "cell_type": "code",
   "execution_count": null,
   "metadata": {},
   "outputs": [],
   "source": [
    "a = np.random.randint(0,10,50)"
   ]
  },
  {
   "cell_type": "markdown",
   "metadata": {},
   "source": [
    "Розв'яжіть систему рівнянь:\n",
    "$$2x + 5y = 1 $$\n",
    "\n",
    "$$x - 10y = 3  $$\n",
    "   "
   ]
  },
  {
   "cell_type": "code",
   "execution_count": 54,
   "metadata": {},
   "outputs": [
    {
     "data": {
      "text/plain": [
       "array([ 1. , -0.2])"
      ]
     },
     "execution_count": 54,
     "metadata": {},
     "output_type": "execute_result"
    }
   ],
   "source": [
    "import numpy as np\n",
    "\n",
    "M1 = np.array([[2., 5.], [1., -10.]]) \n",
    "v1 = np.array([1., 3.])\n",
    "\n",
    "np.linalg.solve(M1, v1)"
   ]
  },
  {
   "cell_type": "code",
   "execution_count": null,
   "metadata": {},
   "outputs": [],
   "source": []
  }
 ],
 "metadata": {
  "kernelspec": {
   "display_name": "Python 3",
   "language": "python",
   "name": "python3"
  },
  "language_info": {
   "codemirror_mode": {
    "name": "ipython",
    "version": 3
   },
   "file_extension": ".py",
   "mimetype": "text/x-python",
   "name": "python",
   "nbconvert_exporter": "python",
   "pygments_lexer": "ipython3",
   "version": "3.8.5"
  }
 },
 "nbformat": 4,
 "nbformat_minor": 2
}
